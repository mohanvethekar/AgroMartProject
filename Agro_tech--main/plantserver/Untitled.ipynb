{
 "cells": [
  {
   "cell_type": "code",
   "execution_count": 13,
   "metadata": {},
   "outputs": [],
   "source": [
    "from flask import Flask,request,Markup\n",
    "import pymysql\n",
    "from werkzeug.utils import secure_filename\n",
    "import os\n",
    "import pathlib\n",
    "import json\n",
    "from datetime import date\n",
    "import pandas as pd\n",
    "import numpy as np\n",
    "\n",
    "def dbConnection():\n",
    "    try:\n",
    "        connection = pymysql.connect(host=\"localhost\", user=\"root\", password=\"root\", database=\"reactplant\")\n",
    "        return connection\n",
    "    except:\n",
    "        print(\"Something went wrong in database Connection\")\n",
    "\n",
    "def dbClose():\n",
    "    try:\n",
    "        dbConnection().close()\n",
    "    except:\n",
    "        print(\"Something went wrong in Close DB Connection\")\n",
    "\n",
    "con = dbConnection()\n",
    "cursor = con.cursor()"
   ]
  },
  {
   "cell_type": "code",
   "execution_count": 16,
   "metadata": {},
   "outputs": [
    {
     "name": "stdout",
     "output_type": "stream",
     "text": [
      "----------------------------------\n",
      "17\n",
      "18048\n",
      "['2023-02-04', '2023-02-07', '2023-02-09', '2023-02-14']\n",
      "[4, 1, 1, 11]\n",
      "1\n",
      "----------------------------------\n"
     ]
    }
   ],
   "source": [
    "cursor.execute('SELECT * FROM payment')\n",
    "row = cursor.fetchall() \n",
    "\n",
    "cursor.execute('SELECT * FROM users')\n",
    "row1 = cursor.fetchall() \n",
    "ordercount=0\n",
    "salescount=0\n",
    "\n",
    "quantilst=[]\n",
    "datelst = []\n",
    "\n",
    "for i in row:\n",
    "    ordercount+=int(i[4])\n",
    "    salescount+=int(i[3])\n",
    "    if i[5] not in datelst:\n",
    "        datelst.append(i[5])\n",
    "        quantilst.append(int(i[4]))\n",
    "    else:\n",
    "        index = datelst.index(i[5])\n",
    "        quantilst[index] = int(quantilst[index])+int(i[4])\n",
    "print(\"----------------------------------\")\n",
    "print(ordercount)\n",
    "print(salescount)\n",
    "print(datelst)\n",
    "print(quantilst)\n",
    "print(len(row1))\n",
    "print(\"----------------------------------\")"
   ]
  },
  {
   "cell_type": "code",
   "execution_count": null,
   "metadata": {},
   "outputs": [],
   "source": []
  }
 ],
 "metadata": {
  "kernelspec": {
   "display_name": "Python 3",
   "language": "python",
   "name": "python3"
  },
  "language_info": {
   "codemirror_mode": {
    "name": "ipython",
    "version": 3
   },
   "file_extension": ".py",
   "mimetype": "text/x-python",
   "name": "python",
   "nbconvert_exporter": "python",
   "pygments_lexer": "ipython3",
   "version": "3.7.6"
  }
 },
 "nbformat": 4,
 "nbformat_minor": 4
}
